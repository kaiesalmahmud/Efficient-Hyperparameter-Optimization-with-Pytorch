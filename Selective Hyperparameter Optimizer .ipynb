{
 "cells": [
  {
   "cell_type": "code",
   "execution_count": 27,
   "metadata": {},
   "outputs": [
    {
     "data": {
      "text/plain": [
       "<torch.autograd.grad_mode.set_grad_enabled at 0x2261ffa4308>"
      ]
     },
     "execution_count": 27,
     "metadata": {},
     "output_type": "execute_result"
    }
   ],
   "source": [
    "%matplotlib inline\n",
    "import matplotlib.pyplot as plt\n",
    "import numpy as np\n",
    "import math\n",
    "\n",
    "import torch\n",
    "import torch.nn as nn\n",
    "import torch.nn.functional as F\n",
    "import torch.optim as optim\n",
    "\n",
    "import torchvision\n",
    "import torchvision.transforms as transforms\n",
    "from torch.utils.data.sampler import SubsetRandomSampler\n",
    "\n",
    "from nas_wot import score\n",
    "from MNISTConvNet import MNISTConvNet\n",
    "from early_stopping import EarlyStopping\n",
    "\n",
    "torch.set_printoptions(linewidth=120)\n",
    "torch.set_grad_enabled(True)"
   ]
  },
  {
   "cell_type": "code",
   "execution_count": 28,
   "metadata": {},
   "outputs": [],
   "source": [
    "import skopt\n",
    "from skopt import gp_minimize, forest_minimize\n",
    "from skopt.space import Real, Categorical, Integer\n",
    "from skopt.plots import plot_convergence\n",
    "from skopt.plots import plot_objective, plot_evaluations\n",
    "from skopt.plots import plot_histogram, plot_objective_2D\n",
    "from skopt.utils import use_named_args"
   ]
  },
  {
   "cell_type": "code",
   "execution_count": 29,
   "metadata": {},
   "outputs": [],
   "source": [
    "dim_learning_rate = Real(low=1e-6, high=1e-2, prior='log-uniform',\n",
    "                        name='learning_rate')\n",
    "\n",
    "dim_num_conv_layers = Integer(low=1, high=3, name='num_conv_layers')\n",
    "\n",
    "dim_num_fc_units = Integer(low=5, high=512, name='num_fc_units')\n",
    "\n",
    "dim_dropout_rate = Real(low=1e-5, high=1e-2, prior='log-uniform',\n",
    "                        name='dropout_rate')\n",
    "\n",
    "dimensions = [dim_learning_rate,\n",
    "              dim_num_conv_layers,\n",
    "              dim_num_fc_units,\n",
    "              dim_dropout_rate]\n",
    "\n",
    "default_parameters = [1e-5, 1, 16, 1e-4]"
   ]
  },
  {
   "cell_type": "code",
   "execution_count": 30,
   "metadata": {},
   "outputs": [],
   "source": [
    "def create_datasets(batch_size):\n",
    "\n",
    "    # percentage of training set to use as validation\n",
    "    valid_size = 0.2\n",
    "\n",
    "    # choose the training and test datasets\n",
    "    train_data = torchvision.datasets.MNIST(root='./data/MNIST', \n",
    "                                train=True,\n",
    "                                download=True, \n",
    "                                transform=transforms.Compose([\n",
    "                                    transforms.ToTensor(),\n",
    "                                    transforms.Normalize(0, 1)\n",
    "                               ]))\n",
    "    \n",
    "    test_data = torchvision.datasets.MNIST(root='./data/MNIST',\n",
    "                               train=False,\n",
    "                               download=True,\n",
    "                               transform=transforms.Compose([\n",
    "                                    transforms.ToTensor(),\n",
    "                                    transforms.Normalize(0, 1)\n",
    "                               ]))\n",
    "\n",
    "    # obtain training indices that will be used for validation\n",
    "    num_train = len(train_data)\n",
    "    indices = list(range(num_train))\n",
    "    np.random.shuffle(indices)\n",
    "    split = int(np.floor(valid_size * num_train))\n",
    "    train_idx, valid_idx = indices[split:], indices[:split]\n",
    "    \n",
    "    # define samplers for obtaining training and validation batches\n",
    "    train_sampler = SubsetRandomSampler(train_idx)\n",
    "    valid_sampler = SubsetRandomSampler(valid_idx)\n",
    "    \n",
    "    # load training data in batches\n",
    "    train_loader = torch.utils.data.DataLoader(train_data,\n",
    "                                               batch_size=batch_size,\n",
    "                                               sampler=train_sampler,\n",
    "                                               num_workers=0)\n",
    "    \n",
    "    # load validation data in batches\n",
    "    valid_loader = torch.utils.data.DataLoader(train_data,\n",
    "                                               batch_size=batch_size,\n",
    "                                               sampler=valid_sampler,\n",
    "                                               num_workers=0)\n",
    "    \n",
    "    # load test data in batches\n",
    "    test_loader = torch.utils.data.DataLoader(test_data,\n",
    "                                              batch_size=batch_size,\n",
    "                                              num_workers=0)\n",
    "    \n",
    "    return train_loader, test_loader, valid_loader"
   ]
  },
  {
   "cell_type": "code",
   "execution_count": 49,
   "metadata": {},
   "outputs": [],
   "source": [
    "def plot_early_stopping(train_loss, valid_loss):\n",
    "    \"\"\"\n",
    "    train_loss = avg_train_losses : List\n",
    "    valid_loss = avg_valid_losses : List\n",
    "    \"\"\"\n",
    "    \n",
    "    # visualize the loss as the network trained\n",
    "    fig = plt.figure(figsize=(10,8))\n",
    "    plt.plot(range(1,len(train_loss)+1), train_loss, label='Training Loss')\n",
    "    plt.plot(range(1,len(valid_loss)+1), valid_loss, label='Validation Loss')\n",
    "\n",
    "    # find position of lowest validation loss\n",
    "    minposs = valid_loss.index(min(valid_loss))+1 \n",
    "    plt.axvline(minposs, linestyle='--', color='r',label='Early Stopping Checkpoint')\n",
    "\n",
    "    plt.xlabel('epochs')\n",
    "    plt.ylabel('loss')\n",
    "    plt.grid(True)\n",
    "    plt.legend()\n",
    "    plt.tight_layout()\n",
    "    plt.show()\n",
    "    fig.savefig('loss_plot.png', bbox_inches='tight')"
   ]
  },
  {
   "cell_type": "code",
   "execution_count": 32,
   "metadata": {},
   "outputs": [],
   "source": [
    "def train(model, lr, num_epoch, train_loader, valid_loader, patience):\n",
    "    \n",
    "    # to track the training loss as the model trains\n",
    "    train_losses = []\n",
    "    # to track the validation loss as the model trains\n",
    "    valid_losses = []\n",
    "    # to track the average training loss per epoch as the model trains\n",
    "    avg_train_losses = []\n",
    "    # to track the average validation loss per epoch as the model trains\n",
    "    avg_valid_losses = [] \n",
    "    \n",
    "    optimizer = optim.Adam(model.parameters(), lr=lr)\n",
    "    scheduler = optim.lr_scheduler.ReduceLROnPlateau(optimizer, patience=5, verbose=True)\n",
    "    \n",
    "    # initialize the early_stopping object\n",
    "    early_stopping = EarlyStopping(patience=patience, verbose=True)\n",
    "    \n",
    "    for epoch in range(1, num_epoch + 1):\n",
    "\n",
    "        ###################\n",
    "        # train the model #\n",
    "        ###################\n",
    "        model.train() # prep model for training\n",
    "        for batch, (data, target) in enumerate(train_loader, 1):\n",
    "            # clear the gradients of all optimized variables\n",
    "            optimizer.zero_grad()\n",
    "            # forward pass: compute predicted outputs by passing inputs to the model\n",
    "            output = model(data)\n",
    "            # calculate the loss\n",
    "            loss = F.cross_entropy(output, target)\n",
    "            # backward pass: compute gradient of the loss with respect to model parameters\n",
    "            loss.backward()\n",
    "            # perform a single optimization step (parameter update)\n",
    "            optimizer.step()\n",
    "            # record training loss\n",
    "            train_losses.append(loss.item())\n",
    "\n",
    "        ######################    \n",
    "        # validate the model #\n",
    "        ######################\n",
    "        model.eval() # prep model for evaluation\n",
    "        for data, target in valid_loader:\n",
    "            # forward pass: compute predicted outputs by passing inputs to the model\n",
    "            output = model(data)\n",
    "            # calculate the loss\n",
    "            loss = F.cross_entropy(output, target)\n",
    "            # record validation loss\n",
    "            valid_losses.append(loss.item())\n",
    "\n",
    "        # print training/validation statistics \n",
    "        # calculate average loss over an epoch\n",
    "        train_loss = np.average(train_losses)\n",
    "        valid_loss = np.average(valid_losses)\n",
    "        avg_train_losses.append(train_loss)\n",
    "        avg_valid_losses.append(valid_loss)\n",
    "        \n",
    "        \n",
    "        # implement scheduler\n",
    "        scheduler.step(valid_loss)\n",
    "        \n",
    "        \n",
    "        epoch_len = len(str(num_epoch))\n",
    "        \n",
    "        print_msg = (f'[{epoch:>{epoch_len}}/{num_epoch:>{epoch_len}}] ' +\n",
    "                     f'train_loss: {train_loss:.5f} ' +\n",
    "                     f'valid_loss: {valid_loss:.5f}')\n",
    "        \n",
    "        print(print_msg)\n",
    "        \n",
    "        # clear lists to track next epoch\n",
    "        train_losses = []\n",
    "        valid_losses = []\n",
    "        \n",
    "        # early_stopping needs the validation loss to check if it has decresed, \n",
    "        # and if it has, it will make a checkpoint of the current model\n",
    "        early_stopping(valid_loss, model)\n",
    "        \n",
    "        if early_stopping.early_stop:\n",
    "            print(\">>> Early stopping\")\n",
    "            plot_early_stopping(avg_train_losses, avg_valid_losses)\n",
    "            break\n",
    "        \n",
    "    # load the last checkpoint with the best model\n",
    "    model.load_state_dict(torch.load('checkpoint.pt'))\n",
    "\n",
    "    return  model, avg_train_losses, avg_valid_losses"
   ]
  },
  {
   "cell_type": "code",
   "execution_count": 33,
   "metadata": {},
   "outputs": [],
   "source": [
    "def test(model, test_loader):    \n",
    "    # initialize lists to monitor test loss and accuracy\n",
    "    test_loss = 0.0\n",
    "    class_correct = list(0. for i in range(10))\n",
    "    class_total = list(0. for i in range(10))\n",
    "\n",
    "    model.eval() # prep model for evaluation\n",
    "\n",
    "    for data, target in test_loader:\n",
    "        if len(target.data) != batch_size:\n",
    "            break\n",
    "        # forward pass: compute predicted outputs by passing inputs to the model\n",
    "        output = model(data)\n",
    "        # calculate the loss\n",
    "        loss = F.cross_entropy(output, target)\n",
    "        # update test loss \n",
    "        test_loss += loss.item()*data.size(0)\n",
    "        # convert output probabilities to predicted class\n",
    "        _, pred = torch.max(output, 1)\n",
    "        # compare predictions to true label\n",
    "        correct = np.squeeze(pred.eq(target.data.view_as(pred)))\n",
    "        # calculate test accuracy for each object class\n",
    "        for i in range(batch_size):\n",
    "            label = target.data[i]\n",
    "            class_correct[label] += correct[i].item()\n",
    "            class_total[label] += 1\n",
    "\n",
    "    # calculate and print avg test loss\n",
    "    test_loss = test_loss/len(test_loader.dataset)\n",
    "    print('Test Loss: {:.6f}\\n'.format(test_loss))\n",
    "\n",
    "\n",
    "    accuracy = np.sum(class_correct) / np.sum(class_total)\n",
    "    \n",
    "    return accuracy"
   ]
  },
  {
   "cell_type": "code",
   "execution_count": 34,
   "metadata": {},
   "outputs": [],
   "source": [
    "batch_size = 256\n",
    "num_epoch = 30\n",
    "patience = 3\n",
    "\n",
    "train_loader, test_loader, valid_loader = create_datasets(batch_size)"
   ]
  },
  {
   "cell_type": "code",
   "execution_count": 50,
   "metadata": {},
   "outputs": [
    {
     "name": "stdout",
     "output_type": "stream",
     "text": [
      "[ 1/30] train_loss: 2.30675 valid_loss: 2.30409\n",
      "Validation loss decreased (inf --> 2.304093).  Saving model ...\n",
      "[ 2/30] train_loss: 2.30552 valid_loss: 2.30444\n",
      "EarlyStopping counter: 1 out of 3\n",
      "[ 3/30] train_loss: 2.30480 valid_loss: 2.31062\n",
      "EarlyStopping counter: 2 out of 3\n",
      "[ 4/30] train_loss: 2.30518 valid_loss: 2.30347\n",
      "Validation loss decreased (2.304093 --> 2.303472).  Saving model ...\n",
      "[ 5/30] train_loss: 2.30527 valid_loss: 2.30774\n",
      "EarlyStopping counter: 1 out of 3\n",
      "[ 6/30] train_loss: 2.30605 valid_loss: 2.30570\n",
      "EarlyStopping counter: 2 out of 3\n",
      "[ 7/30] train_loss: 2.30532 valid_loss: 2.30491\n",
      "EarlyStopping counter: 3 out of 3\n",
      ">>> Early stopping\n"
     ]
    },
    {
     "data": {
      "image/png": "[encoded data removed]",
      "text/plain": [
       "<Figure size 720x576 with 1 Axes>"
      ]
     },
     "metadata": {
      "needs_background": "light"
     },
     "output_type": "display_data"
    }
   ],
   "source": [
    "# Testing the train loop\n",
    "\n",
    "from model_utils import Network\n",
    "model = Network()\n",
    "\n",
    "model, train_loss, valid_loss = train(model, 0.1, \n",
    "                                              num_epoch, train_loader, \n",
    "                                              valid_loader, patience)"
   ]
  },
  {
   "cell_type": "code",
   "execution_count": 16,
   "metadata": {},
   "outputs": [],
   "source": [
    "best_accuracy = 0.0\n",
    "best_model_path = './best_model.pth'\n",
    "\n",
    "@use_named_args(dimensions=dimensions)\n",
    "def fitness(learning_rate, num_conv_layers,\n",
    "            num_fc_units, dropout_rate):\n",
    "\n",
    "    print('\\n\\nlearning rate: {0:.1e}'.format(learning_rate))\n",
    "    print('num_conv_layers:', num_conv_layers)\n",
    "    print('num_fc_units:', num_fc_units)\n",
    "    print('dropout_rate:', dropout_rate)\n",
    "    \n",
    "    model = MNISTConvNet(num_conv_layers=num_conv_layers,\n",
    "                         num_fc_units=num_fc_units,\n",
    "                         dropout_rate=dropout_rate)\n",
    "\n",
    "    eval_score = score(model, train_loader, 100)\n",
    "    print('\\n', eval_score)\n",
    "    \n",
    "    if eval_score < 2800:\n",
    "        model, train_loss, valid_loss = train(model, learning_rate, \n",
    "                                              num_epoch, train_loader, \n",
    "                                              valid_loader, patience)\n",
    "    else:\n",
    "        return -0.5\n",
    "    \n",
    "    accuracy = test(model, test_loader)\n",
    "\n",
    "    print('Accuracy:', accuracy)\n",
    "\n",
    "    global best_accuracy\n",
    "\n",
    "    if accuracy > best_accuracy:\n",
    "        torch.save(model, best_model_path)\n",
    "        best_accuracy = accuracy\n",
    "\n",
    "    del model\n",
    "\n",
    "    return -accuracy"
   ]
  },
  {
   "cell_type": "code",
   "execution_count": 14,
   "metadata": {
    "scrolled": true
   },
   "outputs": [
    {
     "name": "stdout",
     "output_type": "stream",
     "text": [
      "\n",
      "\n",
      "learning rate: 1.0e-05\n",
      "num_conv_layers: 1\n",
      "num_fc_units: 16\n",
      "dropout_rate: 0.0001\n",
      "Array must not contain infs or NaNs\n",
      "[ 1/10] train_loss: 2.30854 valid_loss: 2.30538\n",
      "Validation loss decreased (inf --> 2.305378).  Saving model ...\n",
      "[ 2/10] train_loss: 2.30359 valid_loss: 2.29964\n",
      "Validation loss decreased (2.305378 --> 2.299637).  Saving model ...\n",
      "[ 3/10] train_loss: 2.29669 valid_loss: 2.29293\n",
      "Validation loss decreased (2.299637 --> 2.292929).  Saving model ...\n",
      "[ 4/10] train_loss: 2.28962 valid_loss: 2.28501\n",
      "Validation loss decreased (2.292929 --> 2.285006).  Saving model ...\n",
      "[ 5/10] train_loss: 2.28088 valid_loss: 2.27645\n",
      "Validation loss decreased (2.285006 --> 2.276446).  Saving model ...\n",
      "[ 6/10] train_loss: 2.27190 valid_loss: 2.26730\n",
      "Validation loss decreased (2.276446 --> 2.267300).  Saving model ...\n",
      "[ 7/10] train_loss: 2.26218 valid_loss: 2.25730\n",
      "Validation loss decreased (2.267300 --> 2.257304).  Saving model ...\n",
      "[ 8/10] train_loss: 2.25155 valid_loss: 2.24631\n",
      "Validation loss decreased (2.257304 --> 2.246308).  Saving model ...\n",
      "[ 9/10] train_loss: 2.23931 valid_loss: 2.23279\n",
      "Validation loss decreased (2.246308 --> 2.232790).  Saving model ...\n",
      "[10/10] train_loss: 2.22491 valid_loss: 2.21801\n",
      "Validation loss decreased (2.232790 --> 2.218012).  Saving model ...\n",
      "Test Loss: 2.212620\n",
      "\n",
      "Accuracy: 0.15324519230769232\n"
     ]
    },
    {
     "data": {
      "text/plain": [
       "-0.15324519230769232"
      ]
     },
     "execution_count": 14,
     "metadata": {},
     "output_type": "execute_result"
    }
   ],
   "source": [
    "fitness(x=default_parameters)"
   ]
  },
  {
   "cell_type": "code",
   "execution_count": 18,
   "metadata": {},
   "outputs": [
    {
     "data": {
      "text/plain": [
       "0.9607371794871795"
      ]
     },
     "execution_count": 18,
     "metadata": {},
     "output_type": "execute_result"
    }
   ],
   "source": [
    "best_accuracy"
   ]
  },
  {
   "cell_type": "code",
   "execution_count": 17,
   "metadata": {},
   "outputs": [
    {
     "name": "stdout",
     "output_type": "stream",
     "text": [
      "\n",
      "\n",
      "learning rate: 1.0e-05\n",
      "num_conv_layers: 1\n",
      "num_fc_units: 16\n",
      "dropout_rate: 0.0001\n",
      "[1/1] train_loss: 2.31801 valid_loss: 2.31462\n",
      "Validation loss decreased (inf --> 2.314619).  Saving model ...\n",
      "Test Loss: 2.308893\n",
      "\n",
      "Accuracy: 0.125\n",
      "\n",
      "\n",
      "learning rate: 5.2e-04\n",
      "num_conv_layers: 3\n",
      "num_fc_units: 87\n",
      "dropout_rate: 5.4741823222945104e-05\n",
      "Array must not contain infs or NaNs\n",
      "[1/1] train_loss: 2.22307 valid_loss: 1.87772\n",
      "Validation loss decreased (inf --> 1.877724).  Saving model ...\n",
      "Test Loss: 1.879266\n",
      "\n",
      "Accuracy: 0.3411458333333333\n",
      "\n",
      "\n",
      "learning rate: 5.3e-04\n",
      "num_conv_layers: 3\n",
      "num_fc_units: 336\n",
      "dropout_rate: 0.00014373581195837448\n",
      "Array must not contain infs or NaNs\n",
      "Array must not contain infs or NaNs\n",
      "Array must not contain infs or NaNs\n",
      "[1/1] train_loss: 1.66624 valid_loss: 0.92006\n",
      "Validation loss decreased (inf --> 0.920063).  Saving model ...\n",
      "Test Loss: 0.882851\n",
      "\n",
      "Accuracy: 0.7074318910256411\n",
      "\n",
      "\n",
      "learning rate: 1.0e-02\n",
      "num_conv_layers: 2\n",
      "num_fc_units: 493\n",
      "dropout_rate: 0.00022836403913351807\n",
      "Array must not contain infs or NaNs\n",
      "Array must not contain infs or NaNs\n",
      "[1/1] train_loss: 0.33103 valid_loss: 0.13462\n",
      "Validation loss decreased (inf --> 0.134625).  Saving model ...\n",
      "Test Loss: 0.125078\n",
      "\n",
      "Accuracy: 0.9607371794871795\n",
      "\n",
      "\n",
      "learning rate: 2.3e-04\n",
      "num_conv_layers: 2\n",
      "num_fc_units: 360\n",
      "dropout_rate: 1.1153393562427893e-05\n",
      "Array must not contain infs or NaNs\n",
      "[1/1] train_loss: 1.72418 valid_loss: 0.77163\n",
      "Validation loss decreased (inf --> 0.771634).  Saving model ...\n",
      "Test Loss: 0.761839\n",
      "\n",
      "Accuracy: 0.8236177884615384\n",
      "\n",
      "\n",
      "learning rate: 1.9e-04\n",
      "num_conv_layers: 2\n",
      "num_fc_units: 230\n",
      "dropout_rate: 3.0150348668420437e-05\n",
      "[1/1] train_loss: 2.00330 valid_loss: 1.24303\n",
      "Validation loss decreased (inf --> 1.243027).  Saving model ...\n",
      "Test Loss: 1.229678\n",
      "\n",
      "Accuracy: 0.776542467948718\n",
      "\n",
      "\n",
      "learning rate: 1.1e-03\n",
      "num_conv_layers: 1\n",
      "num_fc_units: 404\n",
      "dropout_rate: 0.0007196206016598434\n",
      "Array must not contain infs or NaNs\n",
      "[1/1] train_loss: 0.70354 valid_loss: 0.30709\n",
      "Validation loss decreased (inf --> 0.307088).  Saving model ...\n",
      "Test Loss: 0.279074\n",
      "\n",
      "Accuracy: 0.9166666666666666\n",
      "\n",
      "\n",
      "learning rate: 1.9e-03\n",
      "num_conv_layers: 2\n",
      "num_fc_units: 327\n",
      "dropout_rate: 0.007433793601966532\n",
      "[1/1] train_loss: 0.69095 valid_loss: 0.28695\n",
      "Validation loss decreased (inf --> 0.286950).  Saving model ...\n",
      "Test Loss: 0.269478\n",
      "\n",
      "Accuracy: 0.9190705128205128\n",
      "\n",
      "\n",
      "learning rate: 1.3e-04\n",
      "num_conv_layers: 3\n",
      "num_fc_units: 258\n",
      "dropout_rate: 0.00011895044218492128\n",
      "Array must not contain infs or NaNs\n",
      "Array must not contain infs or NaNs\n",
      "[1/1] train_loss: 2.29865 valid_loss: 2.28506\n",
      "Validation loss decreased (inf --> 2.285061).  Saving model ...\n",
      "Test Loss: 2.281142\n",
      "\n",
      "Accuracy: 0.17518028846153846\n",
      "\n",
      "\n",
      "learning rate: 1.3e-05\n",
      "num_conv_layers: 2\n",
      "num_fc_units: 344\n",
      "dropout_rate: 0.00021275987495696325\n",
      "[1/1] train_loss: 2.29833 valid_loss: 2.29169\n",
      "Validation loss decreased (inf --> 2.291692).  Saving model ...\n",
      "Test Loss: 2.287295\n",
      "\n",
      "Accuracy: 0.17267628205128205\n",
      "\n",
      "\n",
      "learning rate: 2.9e-06\n",
      "num_conv_layers: 2\n",
      "num_fc_units: 235\n",
      "dropout_rate: 0.0014218022528609564\n",
      "Array must not contain infs or NaNs\n",
      "[1/1] train_loss: 2.30436 valid_loss: 2.30267\n",
      "Validation loss decreased (inf --> 2.302673).  Saving model ...\n",
      "Test Loss: 2.299379\n",
      "\n",
      "Accuracy: 0.09044471153846154\n",
      "\n",
      "\n",
      "learning rate: 1.4e-03\n",
      "num_conv_layers: 2\n",
      "num_fc_units: 512\n",
      "dropout_rate: 1e-05\n",
      "[1/1] train_loss: 0.62976 valid_loss: 0.21007\n",
      "Validation loss decreased (inf --> 0.210066).  Saving model ...\n",
      "Test Loss: 0.191472\n",
      "\n",
      "Accuracy: 0.9405048076923077\n"
     ]
    }
   ],
   "source": [
    "search_result = gp_minimize(func=fitness,\n",
    "                            dimensions=dimensions,\n",
    "                            acq_func='EI',\n",
    "                            n_calls=12,\n",
    "                            x0=default_parameters)"
   ]
  },
  {
   "cell_type": "code",
   "execution_count": 19,
   "metadata": {},
   "outputs": [
    {
     "data": {
      "text/plain": [
       "<AxesSubplot:title={'center':'Convergence plot'}, xlabel='Number of calls $n$', ylabel='$\\\\min f(x)$ after $n$ calls'>"
      ]
     },
     "execution_count": 19,
     "metadata": {},
     "output_type": "execute_result"
    },
    {
     "data": {
      "image/png": "[encoded data removed]",
      "text/plain": [
       "<Figure size 432x288 with 1 Axes>"
      ]
     },
     "metadata": {
      "needs_background": "light"
     },
     "output_type": "display_data"
    }
   ],
   "source": [
    "plot_convergence(search_result)"
   ]
  },
  {
   "cell_type": "code",
   "execution_count": 12,
   "metadata": {},
   "outputs": [
    {
     "data": {
      "text/plain": [
       "[0.01, 1, 371, 0.0020373556352574866]"
      ]
     },
     "execution_count": 12,
     "metadata": {},
     "output_type": "execute_result"
    }
   ],
   "source": [
    "search_result.x"
   ]
  },
  {
   "cell_type": "code",
   "execution_count": 17,
   "metadata": {},
   "outputs": [],
   "source": [
    "space = search_result.space"
   ]
  },
  {
   "cell_type": "code",
   "execution_count": 15,
   "metadata": {},
   "outputs": [
    {
     "data": {
      "text/plain": [
       "scipy.optimize.optimize.OptimizeResult"
      ]
     },
     "execution_count": 15,
     "metadata": {},
     "output_type": "execute_result"
    }
   ],
   "source": [
    "type(search_result)"
   ]
  },
  {
   "cell_type": "code",
   "execution_count": 19,
   "metadata": {},
   "outputs": [
    {
     "data": {
      "text/plain": [
       "-0.9585"
      ]
     },
     "execution_count": 19,
     "metadata": {},
     "output_type": "execute_result"
    }
   ],
   "source": [
    "search_result.fun"
   ]
  },
  {
   "cell_type": "code",
   "execution_count": 20,
   "metadata": {},
   "outputs": [
    {
     "data": {
      "text/plain": [
       "[(-0.9585, [0.01, 1, 371, 0.0020373556352574866]),\n",
       " (-0.958, [0.0055907118261023046, 2, 223, 4.235958405745658e-05]),\n",
       " (-0.9404, [0.0008260939303352365, 2, 488, 0.0018843111126491078]),\n",
       " (-0.6568, [0.0005430212117300351, 3, 52, 0.0008905592246977513]),\n",
       " (-0.5447, [8.071479225631815e-06, 1, 171, 0.0006862299423554364]),\n",
       " (-0.4914, [2.543226725130005e-05, 2, 125, 0.001796085286350762]),\n",
       " (-0.272, [1.2005457717148208e-05, 2, 313, 2.8391575704721965e-05]),\n",
       " (-0.1622, [1e-05, 1, 16, 0.0001]),\n",
       " (-0.1149, [1.0596205281241633e-06, 2, 322, 9.769567507373085e-05]),\n",
       " (-0.1082, [1.0054745084854189e-05, 1, 15, 8.107826584332653e-05]),\n",
       " (-0.1041, [2.4882391096055274e-06, 2, 300, 4.438258157420633e-05]),\n",
       " (-0.0997, [3.892043891201965e-06, 3, 444, 0.00033865735008855403])]"
      ]
     },
     "execution_count": 20,
     "metadata": {},
     "output_type": "execute_result"
    }
   ],
   "source": [
    "sorted(zip(search_result.func_vals, search_result.x_iters))"
   ]
  },
  {
   "cell_type": "code",
   "execution_count": 22,
   "metadata": {},
   "outputs": [
    {
     "data": {
      "image/png": "[encoded data removed]",
      "text/plain": [
       "<Figure size 432x288 with 1 Axes>"
      ]
     },
     "metadata": {
      "needs_background": "light"
     },
     "output_type": "display_data"
    }
   ],
   "source": [
    "fig = plot_objective_2D(result=search_result,\n",
    "                        dimension_identifier1='learning_rate',\n",
    "                        dimension_identifier2='num_fc_units',\n",
    "                        levels=50)"
   ]
  },
  {
   "cell_type": "code",
   "execution_count": 11,
   "metadata": {},
   "outputs": [
    {
     "data": {
      "text/plain": [
       "MNISTConvNet(\n",
       "  (conv1): Conv2d(1, 3, kernel_size=(3, 3), stride=(1, 1))\n",
       "  (dropout): Dropout(p=0.0001, inplace=False)\n",
       "  (fc1): Linear(in_features=507, out_features=16, bias=True)\n",
       "  (fc2): Linear(in_features=16, out_features=10, bias=True)\n",
       ")"
      ]
     },
     "execution_count": 11,
     "metadata": {},
     "output_type": "execute_result"
    }
   ],
   "source": [
    "model = torch.load(best_model_path)\n",
    "model.eval()"
   ]
  },
  {
   "cell_type": "code",
   "execution_count": 12,
   "metadata": {},
   "outputs": [
    {
     "name": "stdout",
     "output_type": "stream",
     "text": [
      "-2925.0997543506764\n"
     ]
    },
    {
     "name": "stderr",
     "output_type": "stream",
     "text": [
      "C:\\Users\\kaies\\AppData\\Roaming\\Python\\Python37\\site-packages\\numpy\\lib\\function_base.py:2534: RuntimeWarning: invalid value encountered in true_divide\n",
      "  c /= stddev[:, None]\n",
      "C:\\Users\\kaies\\AppData\\Roaming\\Python\\Python37\\site-packages\\numpy\\lib\\function_base.py:2535: RuntimeWarning: invalid value encountered in true_divide\n",
      "  c /= stddev[None, :]\n"
     ]
    },
    {
     "name": "stdout",
     "output_type": "stream",
     "text": [
      "Array must not contain infs or NaNs\n",
      "-2802.6805185941557\n",
      "-2886.730985271284\n",
      "-2894.68595056219\n",
      "-3320.235352043034\n"
     ]
    }
   ],
   "source": [
    "# MNISTConvNet Model with MNIST\n",
    "\n",
    "for i in range(5):\n",
    "    print(score(model, train_loader, 100))"
   ]
  },
  {
   "cell_type": "code",
   "execution_count": null,
   "metadata": {},
   "outputs": [],
   "source": []
  }
 ],
 "metadata": {
  "kernelspec": {
   "display_name": "nas-wot",
   "language": "python",
   "name": "nas-wot"
  },
  "language_info": {
   "codemirror_mode": {
    "name": "ipython",
    "version": 3
   },
   "file_extension": ".py",
   "mimetype": "text/x-python",
   "name": "python",
   "nbconvert_exporter": "python",
   "pygments_lexer": "ipython3",
   "version": "3.7.9"
  }
 },
 "nbformat": 4,
 "nbformat_minor": 4
}
