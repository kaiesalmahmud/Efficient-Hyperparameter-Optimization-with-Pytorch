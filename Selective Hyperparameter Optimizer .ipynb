{
 "cells": [
  {
   "cell_type": "code",
   "execution_count": 1,
   "metadata": {},
   "outputs": [
    {
     "data": {
      "text/plain": [
       "<torch.autograd.grad_mode.set_grad_enabled at 0x250976bac88>"
      ]
     },
     "execution_count": 1,
     "metadata": {},
     "output_type": "execute_result"
    }
   ],
   "source": [
    "%matplotlib inline\n",
    "import matplotlib.pyplot as plt\n",
    "import numpy as np\n",
    "import math\n",
    "\n",
    "import torch\n",
    "import torch.nn as nn\n",
    "import torch.nn.functional as F\n",
    "import torch.optim as optim\n",
    "\n",
    "import torchvision\n",
    "import torchvision.transforms as transforms\n",
    "\n",
    "from nas_wot import score\n",
    "from MNISTConvNet import MNISTConvNet\n",
    "\n",
    "torch.set_printoptions(linewidth=120)\n",
    "torch.set_grad_enabled(True)"
   ]
  },
  {
   "cell_type": "code",
   "execution_count": 2,
   "metadata": {},
   "outputs": [],
   "source": [
    "import skopt\n",
    "from skopt import gp_minimize, forest_minimize\n",
    "from skopt.space import Real, Categorical, Integer\n",
    "from skopt.plots import plot_convergence\n",
    "from skopt.plots import plot_objective, plot_evaluations\n",
    "from skopt.plots import plot_histogram, plot_objective_2D\n",
    "from skopt.utils import use_named_args"
   ]
  },
  {
   "cell_type": "code",
   "execution_count": 3,
   "metadata": {},
   "outputs": [],
   "source": [
    "dim_learning_rate = Real(low=1e-6, high=1e-2, prior='log-uniform',\n",
    "                        name='learning_rate')\n",
    "\n",
    "dim_num_conv_layers = Integer(low=1, high=3, name='num_conv_layers')\n",
    "\n",
    "dim_num_fc_units = Integer(low=5, high=512, name='num_fc_units')\n",
    "\n",
    "dim_dropout_rate = Real(low=1e-5, high=1e-2, prior='log-uniform',\n",
    "                        name='dropout_rate')\n",
    "\n",
    "dimensions = [dim_learning_rate,\n",
    "              dim_num_conv_layers,\n",
    "              dim_num_fc_units,\n",
    "              dim_dropout_rate]\n",
    "\n",
    "default_parameters = [1e-5, 1, 16, 1e-4]"
   ]
  },
  {
   "cell_type": "code",
   "execution_count": 4,
   "metadata": {},
   "outputs": [],
   "source": [
    "train_set = torchvision.datasets.MNIST(\n",
    "                        root='./data/MNIST',\n",
    "                        train=True,           #Training Set of 60,000 images\n",
    "                        download=True,\n",
    "                        transform=transforms.Compose([\n",
    "                            transforms.ToTensor(),\n",
    "                            transforms.Normalize(0, 1)\n",
    "                        ])\n",
    ")\n",
    "\n",
    "test_set = torchvision.datasets.MNIST(\n",
    "                        root='./data/MNIST',\n",
    "                        train=False,          #Test Set of 10,000 images\n",
    "                        download=True,\n",
    "                        transform=transforms.Compose([\n",
    "                            transforms.ToTensor(),\n",
    "                            transforms.Normalize(0, 1)\n",
    "                        ])\n",
    ")\n",
    "\n",
    "train_loader = torch.utils.data.DataLoader(\n",
    "    train_set, batch_size=100\n",
    ")\n",
    "\n",
    "test_loader = torch.utils.data.DataLoader(\n",
    "    test_set, batch_size=100\n",
    ")"
   ]
  },
  {
   "cell_type": "code",
   "execution_count": 5,
   "metadata": {},
   "outputs": [],
   "source": [
    "def get_num_correct(preds, labels):\n",
    "    return preds.argmax(dim=1).eq(labels).sum().item()"
   ]
  },
  {
   "cell_type": "code",
   "execution_count": 6,
   "metadata": {},
   "outputs": [],
   "source": [
    "def train(model, lr, num_epoch, train_loader, test_loader):\n",
    "    \n",
    "    optimizer = optim.Adam(model.parameters(), lr=lr)\n",
    "\n",
    "    for epoch in range(num_epoch):\n",
    "        total_loss = 0\n",
    "        total_correct = 0\n",
    "\n",
    "        for batch in train_loader:\n",
    "            images, labels = batch\n",
    "            \n",
    "            preds = model(images)\n",
    "            loss = F.cross_entropy(preds, labels)\n",
    "\n",
    "            optimizer.zero_grad()\n",
    "            loss.backward()\n",
    "            optimizer.step()\n",
    "\n",
    "            total_loss += loss.item()\n",
    "            total_correct += get_num_correct(preds, labels)\n",
    "\n",
    "        print('epoch:', epoch, 'total_correct:', total_correct, 'loss:', total_loss)\n",
    "\n",
    "    print('Train Accuracy:', total_correct/len(train_set))\n",
    "\n",
    "    test_loss = 0\n",
    "    test_correct = 0\n",
    "\n",
    "    for batch in test_loader:\n",
    "        images, labels = batch\n",
    "\n",
    "        preds = model(images)\n",
    "        loss = F.cross_entropy(preds, labels)\n",
    "        \n",
    "        test_loss += loss.item()\n",
    "        test_correct += get_num_correct(preds, labels)\n",
    "\n",
    "    print('Test Accuracy:', test_correct/len(test_set))\n",
    "    \n",
    "    return test_correct/len(test_set)"
   ]
  },
  {
   "cell_type": "code",
   "execution_count": 7,
   "metadata": {},
   "outputs": [],
   "source": [
    "best_accuracy = 0.0\n",
    "best_model_path = './best_model.pth'\n",
    "\n",
    "@use_named_args(dimensions=dimensions)\n",
    "def fitness(learning_rate, num_conv_layers,\n",
    "            num_fc_units, dropout_rate):\n",
    "\n",
    "    print('\\n\\nlearning rate: {0:.1e}'.format(learning_rate))\n",
    "    print('num_conv_layers:', num_conv_layers)\n",
    "    print('num_fc_units:', num_fc_units)\n",
    "    print('dropout_rate:', dropout_rate)\n",
    "    \n",
    "    model = MNISTConvNet(num_conv_layers=num_conv_layers,\n",
    "                         num_fc_units=num_fc_units,\n",
    "                         dropout_rate=dropout_rate)\n",
    "\n",
    "    accuracy = train(model, learning_rate, 1, train_loader, test_loader)\n",
    "\n",
    "    print('Accuracy:', accuracy)\n",
    "\n",
    "    global best_accuracy\n",
    "\n",
    "    if accuracy > best_accuracy:\n",
    "        torch.save(model, best_model_path)\n",
    "        best_accuracy = accuracy\n",
    "\n",
    "    del model\n",
    "\n",
    "    return -accuracy"
   ]
  },
  {
   "cell_type": "code",
   "execution_count": 8,
   "metadata": {
    "scrolled": true
   },
   "outputs": [
    {
     "name": "stdout",
     "output_type": "stream",
     "text": [
      "\n",
      "\n",
      "learning rate: 1.0e-05\n",
      "num_conv_layers: 1\n",
      "num_fc_units: 16\n",
      "dropout_rate: 0.0001\n",
      "epoch: 0 total_correct: 7207 loss: 1365.7161564826965\n",
      "Train Accuracy: 0.12011666666666666\n",
      "Test Accuracy: 0.1696\n",
      "Accuracy: 0.1696\n"
     ]
    },
    {
     "data": {
      "text/plain": [
       "-0.1696"
      ]
     },
     "execution_count": 8,
     "metadata": {},
     "output_type": "execute_result"
    }
   ],
   "source": [
    "fitness(x=default_parameters)"
   ]
  },
  {
   "cell_type": "code",
   "execution_count": 9,
   "metadata": {},
   "outputs": [
    {
     "data": {
      "text/plain": [
       "0.1696"
      ]
     },
     "execution_count": 9,
     "metadata": {},
     "output_type": "execute_result"
    }
   ],
   "source": [
    "best_accuracy"
   ]
  },
  {
   "cell_type": "code",
   "execution_count": 10,
   "metadata": {},
   "outputs": [
    {
     "name": "stdout",
     "output_type": "stream",
     "text": [
      "\n",
      "\n",
      "learning rate: 1.0e-05\n",
      "num_conv_layers: 1\n",
      "num_fc_units: 16\n",
      "dropout_rate: 0.0001\n",
      "epoch: 0 total_correct: 8798 loss: 1378.9494807720184\n",
      "Train Accuracy: 0.14663333333333334\n",
      "Test Accuracy: 0.1622\n",
      "Accuracy: 0.1622\n",
      "\n",
      "\n",
      "learning rate: 2.5e-05\n",
      "num_conv_layers: 2\n",
      "num_fc_units: 125\n",
      "dropout_rate: 0.001796085286350762\n",
      "epoch: 0 total_correct: 15882 loss: 1364.5489072799683\n",
      "Train Accuracy: 0.2647\n",
      "Test Accuracy: 0.4914\n",
      "Accuracy: 0.4914\n",
      "\n",
      "\n",
      "learning rate: 5.4e-04\n",
      "num_conv_layers: 3\n",
      "num_fc_units: 52\n",
      "dropout_rate: 0.0008905592246977513\n",
      "epoch: 0 total_correct: 28704 loss: 880.2016779184341\n",
      "Train Accuracy: 0.4784\n",
      "Test Accuracy: 0.6568\n",
      "Accuracy: 0.6568\n",
      "\n",
      "\n",
      "learning rate: 1.2e-05\n",
      "num_conv_layers: 2\n",
      "num_fc_units: 313\n",
      "dropout_rate: 2.8391575704721965e-05\n",
      "epoch: 0 total_correct: 11011 loss: 1369.5675468444824\n",
      "Train Accuracy: 0.18351666666666666\n",
      "Test Accuracy: 0.272\n",
      "Accuracy: 0.272\n",
      "\n",
      "\n",
      "learning rate: 5.6e-03\n",
      "num_conv_layers: 2\n",
      "num_fc_units: 223\n",
      "dropout_rate: 4.235958405745658e-05\n",
      "epoch: 0 total_correct: 55621 loss: 142.71567458985373\n",
      "Train Accuracy: 0.9270166666666667\n",
      "Test Accuracy: 0.958\n",
      "Accuracy: 0.958\n",
      "\n",
      "\n",
      "learning rate: 8.3e-04\n",
      "num_conv_layers: 2\n",
      "num_fc_units: 488\n",
      "dropout_rate: 0.0018843111126491078\n",
      "epoch: 0 total_correct: 49968 loss: 341.98525919020176\n",
      "Train Accuracy: 0.8328\n",
      "Test Accuracy: 0.9404\n",
      "Accuracy: 0.9404\n",
      "\n",
      "\n",
      "learning rate: 2.5e-06\n",
      "num_conv_layers: 2\n",
      "num_fc_units: 300\n",
      "dropout_rate: 4.438258157420633e-05\n",
      "epoch: 0 total_correct: 5974 loss: 1381.104163646698\n",
      "Train Accuracy: 0.09956666666666666\n",
      "Test Accuracy: 0.1041\n",
      "Accuracy: 0.1041\n",
      "\n",
      "\n",
      "learning rate: 3.9e-06\n",
      "num_conv_layers: 3\n",
      "num_fc_units: 444\n",
      "dropout_rate: 0.00033865735008855403\n",
      "epoch: 0 total_correct: 5968 loss: 1382.2440407276154\n",
      "Train Accuracy: 0.09946666666666666\n",
      "Test Accuracy: 0.0997\n",
      "Accuracy: 0.0997\n",
      "\n",
      "\n",
      "learning rate: 8.1e-06\n",
      "num_conv_layers: 1\n",
      "num_fc_units: 171\n",
      "dropout_rate: 0.0006862299423554364\n",
      "epoch: 0 total_correct: 14827 loss: 1359.6570756435394\n",
      "Train Accuracy: 0.24711666666666668\n",
      "Test Accuracy: 0.5447\n",
      "Accuracy: 0.5447\n",
      "\n",
      "\n",
      "learning rate: 1.1e-06\n",
      "num_conv_layers: 2\n",
      "num_fc_units: 322\n",
      "dropout_rate: 9.769567507373085e-05\n",
      "epoch: 0 total_correct: 6310 loss: 1381.1804926395416\n",
      "Train Accuracy: 0.10516666666666667\n",
      "Test Accuracy: 0.1149\n",
      "Accuracy: 0.1149\n",
      "\n",
      "\n",
      "learning rate: 1.0e-05\n",
      "num_conv_layers: 1\n",
      "num_fc_units: 15\n",
      "dropout_rate: 8.107826584332653e-05\n",
      "epoch: 0 total_correct: 6903 loss: 1387.629076242447\n",
      "Train Accuracy: 0.11505\n",
      "Test Accuracy: 0.1082\n",
      "Accuracy: 0.1082\n",
      "\n",
      "\n",
      "learning rate: 1.0e-02\n",
      "num_conv_layers: 1\n",
      "num_fc_units: 371\n",
      "dropout_rate: 0.0020373556352574866\n",
      "epoch: 0 total_correct: 56379 loss: 117.77866220043506\n",
      "Train Accuracy: 0.93965\n",
      "Test Accuracy: 0.9585\n",
      "Accuracy: 0.9585\n"
     ]
    }
   ],
   "source": [
    "search_result = gp_minimize(func=fitness,\n",
    "                            dimensions=dimensions,\n",
    "                            acq_func='EI',\n",
    "                            n_calls=12,\n",
    "                            x0=default_parameters)"
   ]
  },
  {
   "cell_type": "code",
   "execution_count": 11,
   "metadata": {},
   "outputs": [
    {
     "data": {
      "text/plain": [
       "<AxesSubplot:title={'center':'Convergence plot'}, xlabel='Number of calls $n$', ylabel='$\\\\min f(x)$ after $n$ calls'>"
      ]
     },
     "execution_count": 11,
     "metadata": {},
     "output_type": "execute_result"
    },
    {
     "data": {
      "image/png": "[encoded data removed]",
      "text/plain": [
       "<Figure size 432x288 with 1 Axes>"
      ]
     },
     "metadata": {
      "needs_background": "light"
     },
     "output_type": "display_data"
    }
   ],
   "source": [
    "plot_convergence(search_result)"
   ]
  },
  {
   "cell_type": "code",
   "execution_count": 12,
   "metadata": {},
   "outputs": [
    {
     "data": {
      "text/plain": [
       "[0.01, 1, 371, 0.0020373556352574866]"
      ]
     },
     "execution_count": 12,
     "metadata": {},
     "output_type": "execute_result"
    }
   ],
   "source": [
    "search_result.x"
   ]
  },
  {
   "cell_type": "code",
   "execution_count": 17,
   "metadata": {},
   "outputs": [],
   "source": [
    "space = search_result.space"
   ]
  },
  {
   "cell_type": "code",
   "execution_count": 15,
   "metadata": {},
   "outputs": [
    {
     "data": {
      "text/plain": [
       "scipy.optimize.optimize.OptimizeResult"
      ]
     },
     "execution_count": 15,
     "metadata": {},
     "output_type": "execute_result"
    }
   ],
   "source": [
    "type(search_result)"
   ]
  },
  {
   "cell_type": "code",
   "execution_count": 19,
   "metadata": {},
   "outputs": [
    {
     "data": {
      "text/plain": [
       "-0.9585"
      ]
     },
     "execution_count": 19,
     "metadata": {},
     "output_type": "execute_result"
    }
   ],
   "source": [
    "search_result.fun"
   ]
  },
  {
   "cell_type": "code",
   "execution_count": 20,
   "metadata": {},
   "outputs": [
    {
     "data": {
      "text/plain": [
       "[(-0.9585, [0.01, 1, 371, 0.0020373556352574866]),\n",
       " (-0.958, [0.0055907118261023046, 2, 223, 4.235958405745658e-05]),\n",
       " (-0.9404, [0.0008260939303352365, 2, 488, 0.0018843111126491078]),\n",
       " (-0.6568, [0.0005430212117300351, 3, 52, 0.0008905592246977513]),\n",
       " (-0.5447, [8.071479225631815e-06, 1, 171, 0.0006862299423554364]),\n",
       " (-0.4914, [2.543226725130005e-05, 2, 125, 0.001796085286350762]),\n",
       " (-0.272, [1.2005457717148208e-05, 2, 313, 2.8391575704721965e-05]),\n",
       " (-0.1622, [1e-05, 1, 16, 0.0001]),\n",
       " (-0.1149, [1.0596205281241633e-06, 2, 322, 9.769567507373085e-05]),\n",
       " (-0.1082, [1.0054745084854189e-05, 1, 15, 8.107826584332653e-05]),\n",
       " (-0.1041, [2.4882391096055274e-06, 2, 300, 4.438258157420633e-05]),\n",
       " (-0.0997, [3.892043891201965e-06, 3, 444, 0.00033865735008855403])]"
      ]
     },
     "execution_count": 20,
     "metadata": {},
     "output_type": "execute_result"
    }
   ],
   "source": [
    "sorted(zip(search_result.func_vals, search_result.x_iters))"
   ]
  },
  {
   "cell_type": "code",
   "execution_count": 22,
   "metadata": {},
   "outputs": [
    {
     "data": {
      "image/png": "[encoded data removed]",
      "text/plain": [
       "<Figure size 432x288 with 1 Axes>"
      ]
     },
     "metadata": {
      "needs_background": "light"
     },
     "output_type": "display_data"
    }
   ],
   "source": [
    "fig = plot_objective_2D(result=search_result,\n",
    "                        dimension_identifier1='learning_rate',\n",
    "                        dimension_identifier2='num_fc_units',\n",
    "                        levels=50)"
   ]
  },
  {
   "cell_type": "code",
   "execution_count": 8,
   "metadata": {},
   "outputs": [],
   "source": [
    "model = torch.load(best_model_path)"
   ]
  },
  {
   "cell_type": "code",
   "execution_count": 68,
   "metadata": {},
   "outputs": [],
   "source": [
    "train_set = torchvision.datasets.FashionMNIST(\n",
    "    root='./data/FashionMNIST'\n",
    "    ,train=True\n",
    "    ,download=True\n",
    "    ,transform=transforms.Compose([\n",
    "        transforms.ToTensor()\n",
    "    ])\n",
    ")\n",
    "\n",
    "train_loader = torch.utils.data.DataLoader(train_set, batch_size=100)"
   ]
  },
  {
   "cell_type": "code",
   "execution_count": 79,
   "metadata": {},
   "outputs": [],
   "source": [
    "from model_utils import Network"
   ]
  },
  {
   "cell_type": "code",
   "execution_count": 80,
   "metadata": {},
   "outputs": [],
   "source": [
    "network = Network()"
   ]
  },
  {
   "cell_type": "code",
   "execution_count": 10,
   "metadata": {},
   "outputs": [
    {
     "name": "stderr",
     "output_type": "stream",
     "text": [
      "C:\\Users\\kaies\\AppData\\Roaming\\Python\\Python37\\site-packages\\numpy\\lib\\function_base.py:2534: RuntimeWarning: invalid value encountered in true_divide\n",
      "  c /= stddev[:, None]\n",
      "C:\\Users\\kaies\\AppData\\Roaming\\Python\\Python37\\site-packages\\numpy\\lib\\function_base.py:2535: RuntimeWarning: invalid value encountered in true_divide\n",
      "  c /= stddev[None, :]\n"
     ]
    },
    {
     "name": "stdout",
     "output_type": "stream",
     "text": [
      "Array must not contain infs or NaNs\n",
      "-261.7012142274709\n",
      "Array must not contain infs or NaNs\n",
      "-1270.004067179709\n",
      "-266.3403546270092\n",
      "Array must not contain infs or NaNs\n",
      "Array must not contain infs or NaNs\n",
      "-266.2879589093274\n",
      "-266.0823989199623\n"
     ]
    }
   ],
   "source": [
    "# MNISTConvNet Model with MNIST\n",
    "\n",
    "for i in range(5):\n",
    "    print(score(model, train_loader, 100))"
   ]
  },
  {
   "cell_type": "code",
   "execution_count": 78,
   "metadata": {},
   "outputs": [
    {
     "data": {
      "text/plain": [
       "-174.53300854914806"
      ]
     },
     "execution_count": 78,
     "metadata": {},
     "output_type": "execute_result"
    }
   ],
   "source": [
    "# MNISTConvNet Model with FashionMNIST\n",
    "\n",
    "score(model, train_loader, 100)"
   ]
  },
  {
   "cell_type": "code",
   "execution_count": 84,
   "metadata": {},
   "outputs": [
    {
     "name": "stdout",
     "output_type": "stream",
     "text": [
      "-130.0591546563784\n",
      "-129.5577054965591\n",
      "-130.10801703043032\n",
      "-130.50272044612768\n",
      "-130.20478774893365\n"
     ]
    }
   ],
   "source": [
    "# DeepLizard Model with FashinMNIST\n",
    "\n",
    "for i in range(5):\n",
    "    print(score(network, train_loader, 100))"
   ]
  },
  {
   "cell_type": "code",
   "execution_count": 86,
   "metadata": {},
   "outputs": [
    {
     "name": "stdout",
     "output_type": "stream",
     "text": [
      "-140.72732323378915\n",
      "-140.93314403853495\n",
      "-140.58060849670062\n",
      "-140.8401433763754\n",
      "-141.25414008094714\n"
     ]
    }
   ],
   "source": [
    "# DeepLizard Model with MNIST\n",
    "\n",
    "for i in range(5):\n",
    "    print(score(network, train_loader, 100))"
   ]
  },
  {
   "cell_type": "code",
   "execution_count": null,
   "metadata": {},
   "outputs": [],
   "source": []
  }
 ],
 "metadata": {
  "kernelspec": {
   "display_name": "nas-wot",
   "language": "python",
   "name": "nas-wot"
  },
  "language_info": {
   "codemirror_mode": {
    "name": "ipython",
    "version": 3
   },
   "file_extension": ".py",
   "mimetype": "text/x-python",
   "name": "python",
   "nbconvert_exporter": "python",
   "pygments_lexer": "ipython3",
   "version": "3.7.9"
  }
 },
 "nbformat": 4,
 "nbformat_minor": 4
}
