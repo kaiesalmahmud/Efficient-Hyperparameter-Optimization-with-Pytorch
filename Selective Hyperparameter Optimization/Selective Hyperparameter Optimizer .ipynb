{
 "cells": [
  {
   "cell_type": "code",
   "execution_count": 32,
   "metadata": {},
   "outputs": [
    {
     "data": {
      "text/plain": [
       "<torch.autograd.grad_mode.set_grad_enabled at 0x2aefd621148>"
      ]
     },
     "execution_count": 32,
     "metadata": {},
     "output_type": "execute_result"
    }
   ],
   "source": [
    "%matplotlib inline\n",
    "import matplotlib.pyplot as plt\n",
    "import numpy as np\n",
    "import math\n",
    "\n",
    "import torch\n",
    "import torch.nn as nn\n",
    "import torch.nn.functional as F\n",
    "import torch.optim as optim\n",
    "\n",
    "import torchvision\n",
    "import torchvision.transforms as transforms\n",
    "\n",
    "from nas_wot import score\n",
    "from MNISTConvNet import MNISTConvNet\n",
    "\n",
    "torch.set_printoptions(linewidth=120)\n",
    "torch.set_grad_enabled(True)"
   ]
  },
  {
   "cell_type": "code",
   "execution_count": 33,
   "metadata": {},
   "outputs": [],
   "source": [
    "import skopt\n",
    "from skopt import gp_minimize, forest_minimize\n",
    "from skopt.space import Real, Categorical, Integer\n",
    "from skopt.plots import plot_convergence\n",
    "from skopt.plots import plot_objective, plot_evaluations\n",
    "from skopt.plots import plot_histogram, plot_objective_2D\n",
    "from skopt.utils import use_named_args"
   ]
  },
  {
   "cell_type": "code",
   "execution_count": 34,
   "metadata": {},
   "outputs": [],
   "source": [
    "dim_learning_rate = Real(low=1e-6, high=1e-2, prior='log-uniform',\n",
    "                        name='learning_rate')\n",
    "\n",
    "dim_num_conv_layers = Integer(low=1, high=3, name='num_conv_layers')\n",
    "\n",
    "dim_num_fc_units = Integer(low=5, high=512, name='num_fc_units')\n",
    "\n",
    "dim_dropout_rate = Real(low=1e-5, high=1e-2, prior='log-uniform',\n",
    "                        name='dropout_rate')\n",
    "\n",
    "dimensions = [dim_learning_rate,\n",
    "              dim_num_conv_layers,\n",
    "              dim_num_fc_units,\n",
    "              dim_dropout_rate]\n",
    "\n",
    "default_parameters = [1e-5, 1, 16, 1e-4]"
   ]
  },
  {
   "cell_type": "code",
   "execution_count": 85,
   "metadata": {},
   "outputs": [],
   "source": [
    "train_set = torchvision.datasets.MNIST(\n",
    "                        root='./data/MNIST',\n",
    "                        train=True,           #Training Set of 60,000 images\n",
    "                        download=True,\n",
    "                        transform=transforms.Compose([\n",
    "                            transforms.ToTensor(),\n",
    "                            transforms.Normalize(0, 1)\n",
    "                        ])\n",
    ")\n",
    "\n",
    "test_set = torchvision.datasets.MNIST(\n",
    "                        root='./data/MNIST',\n",
    "                        train=False,          #Test Set of 10,000 images\n",
    "                        download=True,\n",
    "                        transform=transforms.Compose([\n",
    "                            transforms.ToTensor(),\n",
    "                            transforms.Normalize(0, 1)\n",
    "                        ])\n",
    ")\n",
    "\n",
    "train_loader = torch.utils.data.DataLoader(\n",
    "    train_set, batch_size=100\n",
    ")\n",
    "\n",
    "test_loader = torch.utils.data.DataLoader(\n",
    "    test_set, batch_size=100\n",
    ")"
   ]
  },
  {
   "cell_type": "code",
   "execution_count": 36,
   "metadata": {},
   "outputs": [],
   "source": [
    "def get_num_correct(preds, labels):\n",
    "    return preds.argmax(dim=1).eq(labels).sum().item()"
   ]
  },
  {
   "cell_type": "code",
   "execution_count": 37,
   "metadata": {},
   "outputs": [],
   "source": [
    "def train(model, lr, num_epoch, train_loader, test_loader):\n",
    "    \n",
    "    optimizer = optim.Adam(model.parameters(), lr=lr)\n",
    "\n",
    "    for epoch in range(num_epoch):\n",
    "        total_loss = 0\n",
    "        total_correct = 0\n",
    "\n",
    "        for batch in train_loader:\n",
    "            images, labels = batch\n",
    "            \n",
    "            preds = model(images)\n",
    "            loss = F.cross_entropy(preds, labels)\n",
    "\n",
    "            optimizer.zero_grad()\n",
    "            loss.backward()\n",
    "            optimizer.step()\n",
    "\n",
    "            total_loss += loss.item()\n",
    "            total_correct += get_num_correct(preds, labels)\n",
    "\n",
    "        print('epoch:', epoch, 'total_correct:', total_correct, 'loss:', total_loss)\n",
    "\n",
    "    print('Train Accuracy:', total_correct/len(train_set))\n",
    "\n",
    "    test_loss = 0\n",
    "    test_correct = 0\n",
    "\n",
    "    for batch in test_loader:\n",
    "        images, labels = batch\n",
    "\n",
    "        preds = model(images)\n",
    "        loss = F.cross_entropy(preds, labels)\n",
    "        \n",
    "        test_loss += loss.item()\n",
    "        test_correct += get_num_correct(preds, labels)\n",
    "\n",
    "    print('Test Accuracy:', test_correct/len(test_set))\n",
    "    \n",
    "    return test_correct/len(test_set)"
   ]
  },
  {
   "cell_type": "code",
   "execution_count": 38,
   "metadata": {},
   "outputs": [],
   "source": [
    "best_accuracy = 0.0\n",
    "best_model_path = './best_model.pth'\n",
    "\n",
    "@use_named_args(dimensions=dimensions)\n",
    "def fitness(learning_rate, num_conv_layers,\n",
    "            num_fc_units, dropout_rate):\n",
    "\n",
    "    print('\\n\\nlearning rate: {0:.1e}'.format(learning_rate))\n",
    "    print('num_conv_layers:', num_conv_layers)\n",
    "    print('num_fc_units:', num_fc_units)\n",
    "    print('dropout_rate:', dropout_rate)\n",
    "    \n",
    "    model = MNISTConvNet(num_conv_layers=num_conv_layers,\n",
    "                         num_fc_units=num_fc_units,\n",
    "                         dropout_rate=dropout_rate)\n",
    "\n",
    "    accuracy = train(model, learning_rate, 1, train_loader, test_loader)\n",
    "\n",
    "    print('Accuracy:', accuracy)\n",
    "\n",
    "    global best_accuracy\n",
    "\n",
    "    if accuracy > best_accuracy:\n",
    "        torch.save(model, best_model_path)\n",
    "        best_accuracy = accuracy\n",
    "\n",
    "    del model\n",
    "\n",
    "    return -accuracy"
   ]
  },
  {
   "cell_type": "code",
   "execution_count": 39,
   "metadata": {
    "scrolled": true
   },
   "outputs": [
    {
     "name": "stdout",
     "output_type": "stream",
     "text": [
      "\n",
      "\n",
      "learning rate: 1.0e-05\n",
      "num_conv_layers: 1\n",
      "num_fc_units: 16\n",
      "dropout_rate: 0.0001\n",
      "epoch: 0 total_correct: 8990 loss: 1375.8962564468384\n",
      "Train Accuracy: 0.14983333333333335\n",
      "Test Accuracy: 0.1963\n",
      "Accuracy: 0.1963\n"
     ]
    },
    {
     "data": {
      "text/plain": [
       "-0.1963"
      ]
     },
     "execution_count": 39,
     "metadata": {},
     "output_type": "execute_result"
    }
   ],
   "source": [
    "fitness(x=default_parameters)"
   ]
  },
  {
   "cell_type": "code",
   "execution_count": 40,
   "metadata": {},
   "outputs": [
    {
     "data": {
      "text/plain": [
       "0.1963"
      ]
     },
     "execution_count": 40,
     "metadata": {},
     "output_type": "execute_result"
    }
   ],
   "source": [
    "best_accuracy"
   ]
  },
  {
   "cell_type": "code",
   "execution_count": 41,
   "metadata": {},
   "outputs": [
    {
     "name": "stdout",
     "output_type": "stream",
     "text": [
      "\n",
      "\n",
      "learning rate: 1.0e-05\n",
      "num_conv_layers: 1\n",
      "num_fc_units: 16\n",
      "dropout_rate: 0.0001\n",
      "epoch: 0 total_correct: 7683 loss: 1374.965255498886\n",
      "Train Accuracy: 0.12805\n",
      "Test Accuracy: 0.1835\n",
      "Accuracy: 0.1835\n",
      "\n",
      "\n",
      "learning rate: 3.2e-05\n",
      "num_conv_layers: 3\n",
      "num_fc_units: 475\n",
      "dropout_rate: 6.554583805713542e-05\n",
      "epoch: 0 total_correct: 6840 loss: 1380.1562609672546\n",
      "Train Accuracy: 0.114\n",
      "Test Accuracy: 0.2045\n",
      "Accuracy: 0.2045\n",
      "\n",
      "\n",
      "learning rate: 1.4e-06\n",
      "num_conv_layers: 2\n",
      "num_fc_units: 332\n",
      "dropout_rate: 0.008263500480211641\n",
      "epoch: 0 total_correct: 5923 loss: 1381.8805747032166\n",
      "Train Accuracy: 0.09871666666666666\n",
      "Test Accuracy: 0.098\n",
      "Accuracy: 0.098\n",
      "\n",
      "\n",
      "learning rate: 1.4e-04\n",
      "num_conv_layers: 1\n",
      "num_fc_units: 369\n",
      "dropout_rate: 0.00024463712155743455\n",
      "epoch: 0 total_correct: 48370 loss: 557.3785186186433\n",
      "Train Accuracy: 0.8061666666666667\n",
      "Test Accuracy: 0.9056\n",
      "Accuracy: 0.9056\n",
      "\n",
      "\n",
      "learning rate: 2.6e-03\n",
      "num_conv_layers: 2\n",
      "num_fc_units: 246\n",
      "dropout_rate: 1.5303097393960503e-05\n",
      "epoch: 0 total_correct: 50108 loss: 307.650442709215\n",
      "Train Accuracy: 0.8351333333333333\n",
      "Test Accuracy: 0.9418\n",
      "Accuracy: 0.9418\n",
      "\n",
      "\n",
      "learning rate: 5.9e-03\n",
      "num_conv_layers: 3\n",
      "num_fc_units: 476\n",
      "dropout_rate: 3.697738785342337e-05\n",
      "epoch: 0 total_correct: 47217 loss: 391.60135494172573\n",
      "Train Accuracy: 0.78695\n",
      "Test Accuracy: 0.8821\n",
      "Accuracy: 0.8821\n",
      "\n",
      "\n",
      "learning rate: 4.6e-04\n",
      "num_conv_layers: 2\n",
      "num_fc_units: 320\n",
      "dropout_rate: 0.0038020798201278084\n",
      "epoch: 0 total_correct: 47265 loss: 452.21181692555547\n",
      "Train Accuracy: 0.78775\n",
      "Test Accuracy: 0.9181\n",
      "Accuracy: 0.9181\n",
      "\n",
      "\n",
      "learning rate: 6.0e-04\n",
      "num_conv_layers: 2\n",
      "num_fc_units: 462\n",
      "dropout_rate: 0.002187508964003459\n",
      "epoch: 0 total_correct: 48776 loss: 381.06495225802064\n",
      "Train Accuracy: 0.8129333333333333\n",
      "Test Accuracy: 0.9193\n",
      "Accuracy: 0.9193\n",
      "\n",
      "\n",
      "learning rate: 1.2e-05\n",
      "num_conv_layers: 2\n",
      "num_fc_units: 467\n",
      "dropout_rate: 1.2169321405185916e-05\n",
      "epoch: 0 total_correct: 15526 loss: 1368.4263746738434\n",
      "Train Accuracy: 0.25876666666666664\n",
      "Test Accuracy: 0.4356\n",
      "Accuracy: 0.4356\n",
      "\n",
      "\n",
      "learning rate: 6.7e-06\n",
      "num_conv_layers: 3\n",
      "num_fc_units: 137\n",
      "dropout_rate: 0.003226479883325698\n",
      "epoch: 0 total_correct: 5824 loss: 1383.9138576984406\n",
      "Train Accuracy: 0.09706666666666666\n",
      "Test Accuracy: 0.0963\n",
      "Accuracy: 0.0963\n",
      "\n",
      "\n",
      "learning rate: 4.3e-05\n",
      "num_conv_layers: 2\n",
      "num_fc_units: 339\n",
      "dropout_rate: 1.739912989537645e-05\n",
      "epoch: 0 total_correct: 26098 loss: 1305.4908105134964\n",
      "Train Accuracy: 0.43496666666666667\n",
      "Test Accuracy: 0.7483\n",
      "Accuracy: 0.7483\n",
      "\n",
      "\n",
      "learning rate: 1.8e-03\n",
      "num_conv_layers: 1\n",
      "num_fc_units: 512\n",
      "dropout_rate: 1e-05\n",
      "epoch: 0 total_correct: 55306 loss: 157.77748432056978\n",
      "Train Accuracy: 0.9217666666666666\n",
      "Test Accuracy: 0.9607\n",
      "Accuracy: 0.9607\n"
     ]
    }
   ],
   "source": [
    "search_result = gp_minimize(func=fitness,\n",
    "                            dimensions=dimensions,\n",
    "                            acq_func='EI',\n",
    "                            n_calls=12,\n",
    "                            x0=default_parameters)"
   ]
  },
  {
   "cell_type": "code",
   "execution_count": 42,
   "metadata": {},
   "outputs": [],
   "source": [
    "model = torch.load(best_model_path)"
   ]
  },
  {
   "cell_type": "code",
   "execution_count": 43,
   "metadata": {},
   "outputs": [
    {
     "data": {
      "text/plain": [
       "-258.5201912654412"
      ]
     },
     "execution_count": 43,
     "metadata": {},
     "output_type": "execute_result"
    }
   ],
   "source": [
    "score(model, train_loader, 100)"
   ]
  },
  {
   "cell_type": "code",
   "execution_count": 44,
   "metadata": {},
   "outputs": [
    {
     "data": {
      "text/plain": [
       "-255.93358079193638"
      ]
     },
     "execution_count": 44,
     "metadata": {},
     "output_type": "execute_result"
    }
   ],
   "source": [
    "score(model, train_loader, 100)"
   ]
  },
  {
   "cell_type": "code",
   "execution_count": 45,
   "metadata": {},
   "outputs": [
    {
     "data": {
      "text/plain": [
       "-1405.1369280804388"
      ]
     },
     "execution_count": 45,
     "metadata": {},
     "output_type": "execute_result"
    }
   ],
   "source": [
    "score(model, train_loader, 100)"
   ]
  },
  {
   "cell_type": "code",
   "execution_count": 48,
   "metadata": {},
   "outputs": [
    {
     "data": {
      "text/plain": [
       "-274.17343593713525"
      ]
     },
     "execution_count": 48,
     "metadata": {},
     "output_type": "execute_result"
    }
   ],
   "source": [
    "score(model, train_loader, 100)"
   ]
  },
  {
   "cell_type": "code",
   "execution_count": 49,
   "metadata": {},
   "outputs": [
    {
     "data": {
      "text/plain": [
       "-269.1172612628513"
      ]
     },
     "execution_count": 49,
     "metadata": {},
     "output_type": "execute_result"
    }
   ],
   "source": [
    "score(model, train_loader, 100)"
   ]
  },
  {
   "cell_type": "code",
   "execution_count": 50,
   "metadata": {},
   "outputs": [
    {
     "data": {
      "text/plain": [
       "-274.4908487728444"
      ]
     },
     "execution_count": 50,
     "metadata": {},
     "output_type": "execute_result"
    }
   ],
   "source": [
    "score(model, train_loader, 100)"
   ]
  },
  {
   "cell_type": "code",
   "execution_count": 51,
   "metadata": {},
   "outputs": [
    {
     "data": {
      "text/plain": [
       "-272.94912093133127"
      ]
     },
     "execution_count": 51,
     "metadata": {},
     "output_type": "execute_result"
    }
   ],
   "source": [
    "score(model, train_loader, 100)"
   ]
  },
  {
   "cell_type": "code",
   "execution_count": 53,
   "metadata": {},
   "outputs": [
    {
     "data": {
      "text/plain": [
       "-267.4807335426352"
      ]
     },
     "execution_count": 53,
     "metadata": {},
     "output_type": "execute_result"
    }
   ],
   "source": [
    "score(model, train_loader, 100)"
   ]
  },
  {
   "cell_type": "code",
   "execution_count": 54,
   "metadata": {},
   "outputs": [
    {
     "data": {
      "text/plain": [
       "-270.02138317752775"
      ]
     },
     "execution_count": 54,
     "metadata": {},
     "output_type": "execute_result"
    }
   ],
   "source": [
    "score(model, train_loader, 100)"
   ]
  },
  {
   "cell_type": "code",
   "execution_count": 55,
   "metadata": {},
   "outputs": [
    {
     "data": {
      "text/plain": [
       "-251.4902082469836"
      ]
     },
     "execution_count": 55,
     "metadata": {},
     "output_type": "execute_result"
    }
   ],
   "source": [
    "score(model, train_loader, 100)"
   ]
  },
  {
   "cell_type": "code",
   "execution_count": 58,
   "metadata": {},
   "outputs": [
    {
     "data": {
      "text/plain": [
       "-274.22823468841784"
      ]
     },
     "execution_count": 58,
     "metadata": {},
     "output_type": "execute_result"
    }
   ],
   "source": [
    "score(model, train_loader, 100)"
   ]
  },
  {
   "cell_type": "code",
   "execution_count": 68,
   "metadata": {},
   "outputs": [],
   "source": [
    "train_set = torchvision.datasets.FashionMNIST(\n",
    "    root='./data/FashionMNIST'\n",
    "    ,train=True\n",
    "    ,download=True\n",
    "    ,transform=transforms.Compose([\n",
    "        transforms.ToTensor()\n",
    "    ])\n",
    ")\n",
    "\n",
    "train_loader = torch.utils.data.DataLoader(train_set, batch_size=100)"
   ]
  },
  {
   "cell_type": "code",
   "execution_count": 79,
   "metadata": {},
   "outputs": [],
   "source": [
    "from model_utils import Network"
   ]
  },
  {
   "cell_type": "code",
   "execution_count": 80,
   "metadata": {},
   "outputs": [],
   "source": [
    "network = Network()"
   ]
  },
  {
   "cell_type": "code",
   "execution_count": 63,
   "metadata": {},
   "outputs": [
    {
     "name": "stdout",
     "output_type": "stream",
     "text": [
      "-252.87908629939508\n",
      "-253.68628686489285\n",
      "-262.81342022702245\n",
      "-250.77947543684232\n",
      "-266.47151279492357\n"
     ]
    }
   ],
   "source": [
    "# MNISTConvNet Model with MNIST\n",
    "\n",
    "for i in range(5):\n",
    "    print(score(model, train_loader, 100))"
   ]
  },
  {
   "cell_type": "code",
   "execution_count": 78,
   "metadata": {},
   "outputs": [
    {
     "data": {
      "text/plain": [
       "-174.53300854914806"
      ]
     },
     "execution_count": 78,
     "metadata": {},
     "output_type": "execute_result"
    }
   ],
   "source": [
    "# MNISTConvNet Model with FashionMNIST\n",
    "\n",
    "score(model, train_loader, 100)"
   ]
  },
  {
   "cell_type": "code",
   "execution_count": 84,
   "metadata": {},
   "outputs": [
    {
     "name": "stdout",
     "output_type": "stream",
     "text": [
      "-130.0591546563784\n",
      "-129.5577054965591\n",
      "-130.10801703043032\n",
      "-130.50272044612768\n",
      "-130.20478774893365\n"
     ]
    }
   ],
   "source": [
    "# DeepLizard Model with FashinMNIST\n",
    "\n",
    "for i in range(5):\n",
    "    print(score(network, train_loader, 100))"
   ]
  },
  {
   "cell_type": "code",
   "execution_count": 86,
   "metadata": {},
   "outputs": [
    {
     "name": "stdout",
     "output_type": "stream",
     "text": [
      "-140.72732323378915\n",
      "-140.93314403853495\n",
      "-140.58060849670062\n",
      "-140.8401433763754\n",
      "-141.25414008094714\n"
     ]
    }
   ],
   "source": [
    "# DeepLizard Model with MNIST\n",
    "\n",
    "for i in range(5):\n",
    "    print(score(network, train_loader, 100))"
   ]
  },
  {
   "cell_type": "code",
   "execution_count": null,
   "metadata": {},
   "outputs": [],
   "source": []
  }
 ],
 "metadata": {
  "kernelspec": {
   "display_name": "nas-wot",
   "language": "python",
   "name": "nas-wot"
  },
  "language_info": {
   "codemirror_mode": {
    "name": "ipython",
    "version": 3
   },
   "file_extension": ".py",
   "mimetype": "text/x-python",
   "name": "python",
   "nbconvert_exporter": "python",
   "pygments_lexer": "ipython3",
   "version": "3.7.9"
  }
 },
 "nbformat": 4,
 "nbformat_minor": 4
}
